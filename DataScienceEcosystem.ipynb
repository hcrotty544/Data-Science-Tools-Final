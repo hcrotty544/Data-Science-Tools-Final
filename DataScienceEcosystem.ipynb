{
 "cells": [
  {
   "cell_type": "markdown",
   "id": "b0e36b9d-1d66-4d0a-b284-58462d85d9b3",
   "metadata": {},
   "source": [
    "# Data Science Tools and Ecosystem"
   ]
  },
  {
   "cell_type": "markdown",
   "id": "8a2a9204-7da4-4b67-81e7-76f8a32b9444",
   "metadata": {},
   "source": [
    "In this notebook, Data Science Tools and Ecosystems are summarized."
   ]
  },
  {
   "cell_type": "markdown",
   "id": "df42bb28-8e0e-458c-ac8c-286335a4ae47",
   "metadata": {},
   "source": [
    "**Objectives:**\n",
    "* List popular languages for Data Science\n",
    "* List commonly used libraries for Data Science\n",
    "* List popular Data Science development environments"
   ]
  },
  {
   "cell_type": "markdown",
   "id": "923353f4-73cf-4e5b-b0fc-b40ea2b00c13",
   "metadata": {},
   "source": [
    "Some of the popular languages that Data Scientists use are:\n",
    "\n",
    "1. Python\n",
    "2. JAVA\n",
    "3. R\n",
    "4. SQL"
   ]
  },
  {
   "cell_type": "markdown",
   "id": "48ae2f29-cc3f-4b88-8b6e-e48caa1b321a",
   "metadata": {},
   "source": [
    "Some of the commonly used libraries used by Data Scientists include:\n",
    "\n",
    "1. Pandas\n",
    "2. Matplotlib\n",
    "3. Plotly\n",
    "4. SciPy"
   ]
  },
  {
   "cell_type": "markdown",
   "id": "15d4560e-09e6-4b98-83c0-62e212032b5c",
   "metadata": {},
   "source": [
    "|Data Science Tools|\n",
    "|-----|\n",
    "|Jupyter Notebook|\n",
    "|RStudio|\n",
    "|Python|"
   ]
  },
  {
   "cell_type": "markdown",
   "id": "fdc4e677-9352-4138-89ea-35f0e7cc4566",
   "metadata": {},
   "source": [
    "### Below are a few examples of evaluating arithmetic expressions in Python"
   ]
  },
  {
   "cell_type": "markdown",
   "id": "8a1da1b3-ee62-4e44-88c3-ca3c3f4b41cd",
   "metadata": {},
   "source": [
    "This is a simple arithmetic expression to multiply then add integers"
   ]
  },
  {
   "cell_type": "code",
   "execution_count": 3,
   "id": "8f5680b7-ffef-412a-833e-24383cd90628",
   "metadata": {},
   "outputs": [
    {
     "data": {
      "text/plain": [
       "17"
      ]
     },
     "execution_count": 3,
     "metadata": {},
     "output_type": "execute_result"
    }
   ],
   "source": [
    "(3*4)+5"
   ]
  },
  {
   "cell_type": "markdown",
   "id": "62cdd199-5c9b-47f7-91c2-a17f3505a419",
   "metadata": {},
   "source": [
    "This will convert 200 minutes to hours by dividng by 60"
   ]
  },
  {
   "cell_type": "code",
   "execution_count": 4,
   "id": "d9175dea-82c7-4e27-b176-f98595dc0b8b",
   "metadata": {},
   "outputs": [
    {
     "data": {
      "text/plain": [
       "3.3333333333333335"
      ]
     },
     "execution_count": 4,
     "metadata": {},
     "output_type": "execute_result"
    }
   ],
   "source": [
    "200/60"
   ]
  },
  {
   "cell_type": "markdown",
   "id": "57cee84d-4823-4827-8636-5f1e44ff81dc",
   "metadata": {},
   "source": [
    "## Author\n",
    "Hannah Crotty"
   ]
  },
  {
   "cell_type": "code",
   "execution_count": null,
   "id": "f34fe8d2-da0e-4680-94cb-54d59e3b9c16",
   "metadata": {},
   "outputs": [],
   "source": []
  }
 ],
 "metadata": {
  "kernelspec": {
   "display_name": "Python 3 (ipykernel)",
   "language": "python",
   "name": "python3"
  },
  "language_info": {
   "codemirror_mode": {
    "name": "ipython",
    "version": 3
   },
   "file_extension": ".py",
   "mimetype": "text/x-python",
   "name": "python",
   "nbconvert_exporter": "python",
   "pygments_lexer": "ipython3",
   "version": "3.11.9"
  }
 },
 "nbformat": 4,
 "nbformat_minor": 5
}
